{
 "cells": [
  {
   "cell_type": "code",
   "execution_count": 7,
   "id": "3fe78d87",
   "metadata": {},
   "outputs": [
    {
     "name": "stdout",
     "output_type": "stream",
     "text": [
      "Collecting python-dotenv\n",
      "  Downloading python_dotenv-1.0.0-py3-none-any.whl (19 kB)\n",
      "Installing collected packages: python-dotenv\n",
      "Successfully installed python-dotenv-1.0.0\n"
     ]
    }
   ],
   "source": [
    "!pip install python-dotenv"
   ]
  },
  {
   "cell_type": "code",
   "execution_count": 99,
   "id": "8e5703e1",
   "metadata": {},
   "outputs": [
    {
     "name": "stdout",
     "output_type": "stream",
     "text": [
      "{\n",
      "    \"detail\": \"One or more parameters to your request was invalid.\",\n",
      "    \"errors\": [\n",
      "        {\n",
      "            \"message\": \"Invalid 'end_time':'2023-05-01T22:59Z'. 'end_time' must be a minimum of 10 seconds prior to the request time.\",\n",
      "            \"parameters\": {\n",
      "                \"end_time\": [\n",
      "                    \"2023-05-01T22:59Z\"\n",
      "                ]\n",
      "            }\n",
      "        }\n",
      "    ],\n",
      "    \"title\": \"Invalid Request\",\n",
      "    \"type\": \"https://api.twitter.com/2/problems/invalid-request\"\n",
      "}\n"
     ]
    },
    {
     "data": {
      "text/plain": [
       "<function TextIOWrapper.close()>"
      ]
     },
     "execution_count": 99,
     "metadata": {},
     "output_type": "execute_result"
    }
   ],
   "source": [
    "from dotenv import dotenv_values\n",
    "import requests\n",
    "import json\n",
    "\n",
    "# loading API keys\n",
    "config = dotenv_values(\".env\")\n",
    "\n",
    "bearer_token = config[\"BEARER_TOKEN\"]\n",
    "\n",
    "search_url = \"https://api.twitter.com/2/tweets/search/recent\"\n",
    "\n",
    "# Optional params: start_time,end_time,since_id,until_id,max_results,next_token,\n",
    "# expansions,tweet.fields,media.fields,poll.fields,place.fields,user.fields\n",
    "# query_params = {'query': '(from:twitterdev -is:retweet) OR #twitterdev','tweet.fields': 'author_id', \"max_results\":\"10\"}\n",
    "query_params = {\n",
    "    'query' : '\"Higgs Boson\" -is:retweet', # -is:retweet -> avoids retweets\n",
    "    #\"max_results\":\"100\", # number of results we'll get\n",
    "    \"start_time\": \"2023-04-24T23:59:00Z\",\n",
    "    \"end_time\": \"2023-05-01T22:59:00Z\"\n",
    "    \n",
    "}\n",
    "\n",
    "# Token authentication method\n",
    "def bearer_oauth(r):\n",
    "    r.headers[\"Authorization\"] = f\"Bearer {bearer_token}\"\n",
    "    r.headers[\"User-Agent\"] = \"v2RecentSearchPython\"\n",
    "    return r\n",
    "\n",
    "# Setting the query\n",
    "def connect_to_endpoint(url, params):\n",
    "    response = requests.get(url, auth=bearer_oauth, params=params) # how we set the request itself with .get\n",
    "    \n",
    "    return response.json()\n",
    "\n",
    "# Querying the API\n",
    "json_response = connect_to_endpoint(search_url, query_params)\n",
    "\n",
    "# Parsing the response\n",
    "parsedRes = json.dumps(json_response, indent=4, sort_keys=True, ensure_ascii=True) # indent 4 to look nice indent. ascii to get emoties etc.\n",
    "print(parsedRes)\n",
    "# Saving the variable holding tweets to a text file\n",
    "file = open(\"tweets.json\", \"w\")\n",
    "file.write(parsedRes)\n",
    "file.close\n",
    "# Appending the other variables to the same text file\n",
    "file = open(\"tweets.json\", \"a\")\n",
    "file.write('\\n'+parsedRes)\n",
    "file.close\n"
   ]
  },
  {
   "cell_type": "code",
   "execution_count": 94,
   "id": "e43c8f44",
   "metadata": {},
   "outputs": [
    {
     "ename": "AttributeError",
     "evalue": "'dict' object has no attribute '__name__'",
     "output_type": "error",
     "traceback": [
      "\u001b[1;31m---------------------------------------------------------------------------\u001b[0m",
      "\u001b[1;31mAttributeError\u001b[0m                            Traceback (most recent call last)",
      "\u001b[1;32m~\\AppData\\Local\\Temp\\ipykernel_19816\\1304795349.py\u001b[0m in \u001b[0;36m<module>\u001b[1;34m\u001b[0m\n\u001b[0;32m      9\u001b[0m )\n\u001b[0;32m     10\u001b[0m \u001b[1;33m\u001b[0m\u001b[0m\n\u001b[1;32m---> 11\u001b[1;33m \u001b[1;32mfor\u001b[0m \u001b[0mtweet\u001b[0m \u001b[1;32min\u001b[0m \u001b[0mpaginator\u001b[0m\u001b[1;33m.\u001b[0m\u001b[0mflatten\u001b[0m\u001b[1;33m(\u001b[0m\u001b[0mlimit\u001b[0m\u001b[1;33m=\u001b[0m\u001b[1;36m250\u001b[0m\u001b[1;33m)\u001b[0m\u001b[1;33m:\u001b[0m \u001b[1;31m# Total number of tweets to retrieve\u001b[0m\u001b[1;33m\u001b[0m\u001b[1;33m\u001b[0m\u001b[0m\n\u001b[0m\u001b[0;32m     12\u001b[0m     \u001b[0mprint\u001b[0m\u001b[1;33m(\u001b[0m\u001b[0mtweet\u001b[0m\u001b[1;33m)\u001b[0m\u001b[1;33m\u001b[0m\u001b[1;33m\u001b[0m\u001b[0m\n\u001b[0;32m     13\u001b[0m \u001b[1;33m\u001b[0m\u001b[0m\n",
      "\u001b[1;32mC:\\Users\\montec3\\Anaconda3\\lib\\site-packages\\tweepy\\pagination.py\u001b[0m in \u001b[0;36mflatten\u001b[1;34m(self, limit)\u001b[0m\n\u001b[0;32m     65\u001b[0m \u001b[1;33m\u001b[0m\u001b[0m\n\u001b[0;32m     66\u001b[0m         \u001b[0mcount\u001b[0m \u001b[1;33m=\u001b[0m \u001b[1;36m0\u001b[0m\u001b[1;33m\u001b[0m\u001b[1;33m\u001b[0m\u001b[0m\n\u001b[1;32m---> 67\u001b[1;33m         for response in PaginationIterator(\n\u001b[0m\u001b[0;32m     68\u001b[0m             \u001b[0mself\u001b[0m\u001b[1;33m.\u001b[0m\u001b[0mmethod\u001b[0m\u001b[1;33m,\u001b[0m \u001b[1;33m*\u001b[0m\u001b[0mself\u001b[0m\u001b[1;33m.\u001b[0m\u001b[0margs\u001b[0m\u001b[1;33m,\u001b[0m \u001b[1;33m**\u001b[0m\u001b[0mself\u001b[0m\u001b[1;33m.\u001b[0m\u001b[0mkwargs\u001b[0m\u001b[1;33m\u001b[0m\u001b[1;33m\u001b[0m\u001b[0m\n\u001b[0;32m     69\u001b[0m         ):\n",
      "\u001b[1;32mC:\\Users\\montec3\\Anaconda3\\lib\\site-packages\\tweepy\\pagination.py\u001b[0m in \u001b[0;36m__next__\u001b[1;34m(self)\u001b[0m\n\u001b[0;32m    116\u001b[0m \u001b[1;33m\u001b[0m\u001b[0m\n\u001b[0;32m    117\u001b[0m         \u001b[1;31m# https://twittercommunity.com/t/why-does-timeline-use-pagination-token-while-search-uses-next-token/150963\u001b[0m\u001b[1;33m\u001b[0m\u001b[1;33m\u001b[0m\u001b[0m\n\u001b[1;32m--> 118\u001b[1;33m         if self.method.__name__ in (\n\u001b[0m\u001b[0;32m    119\u001b[0m             \u001b[1;34m\"search_all_tweets\"\u001b[0m\u001b[1;33m,\u001b[0m \u001b[1;34m\"search_recent_tweets\"\u001b[0m\u001b[1;33m,\u001b[0m\u001b[1;33m\u001b[0m\u001b[1;33m\u001b[0m\u001b[0m\n\u001b[0;32m    120\u001b[0m             \u001b[1;34m\"get_all_tweets_count\"\u001b[0m\u001b[1;33m\u001b[0m\u001b[1;33m\u001b[0m\u001b[0m\n",
      "\u001b[1;31mAttributeError\u001b[0m: 'dict' object has no attribute '__name__'"
     ]
    }
   ],
   "source": [
    "#!pip install tweepy\n",
    "import tweepy\n",
    "\n",
    "paginator = tweepy.Paginator(\n",
    "    json_response,                         # The method you want to use    \n",
    "    exclude=['retweets', 'replies'],       # Some argument for this method\n",
    "    start_time=\"1998-12-01T00:00:00Z\",     # Some argument for this method\n",
    "    #max_results=100                        # How many tweets asked per request\n",
    ")\n",
    "\n",
    "for tweet in paginator.flatten(limit=250): # Total number of tweets to retrieve\n",
    "    print(tweet)\n",
    "\n",
    "with open(r'tweets.txt', 'r') as fp:\n",
    "    \n",
    "    # read all lines using readline()\n",
    "    lines = fp.readlines()\n",
    "    \n",
    "    for row in lines:\n",
    "        # check if string present on a current line\n",
    "        if row.find('text') != -1:  # find() method returns -1 if the value is not found\n",
    "            file1 = open(\"tweetsText.csv\", \"a\")  # append mode\n",
    "            file1.write(row.lstrip().replace('\"text\": \"', ''))\n",
    "            file1.close()  "
   ]
  },
  {
   "cell_type": "code",
   "execution_count": null,
   "id": "a4c56aa6",
   "metadata": {},
   "outputs": [],
   "source": []
  }
 ],
 "metadata": {
  "kernelspec": {
   "display_name": "Python 3 (ipykernel)",
   "language": "python",
   "name": "python3"
  },
  "language_info": {
   "codemirror_mode": {
    "name": "ipython",
    "version": 3
   },
   "file_extension": ".py",
   "mimetype": "text/x-python",
   "name": "python",
   "nbconvert_exporter": "python",
   "pygments_lexer": "ipython3",
   "version": "3.9.13"
  }
 },
 "nbformat": 4,
 "nbformat_minor": 5
}
